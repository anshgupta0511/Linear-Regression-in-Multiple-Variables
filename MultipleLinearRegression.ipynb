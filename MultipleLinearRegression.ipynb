{
  "nbformat": 4,
  "nbformat_minor": 0,
  "metadata": {
    "colab": {
      "name": "MultipleLinearRegression.ipynb",
      "provenance": [],
      "collapsed_sections": [],
      "toc_visible": true
    },
    "kernelspec": {
      "name": "python3",
      "display_name": "Python 3"
    }
  },
  "cells": [
    {
      "cell_type": "markdown",
      "metadata": {
        "id": "AQ6JQDU7KbJS"
      },
      "source": [
        "## Importing Dataset and understanding "
      ]
    },
    {
      "cell_type": "code",
      "metadata": {
        "id": "ibb1oj0wFYB4",
        "colab": {
          "base_uri": "https://localhost:8080/"
        },
        "outputId": "dea67629-1131-4b5f-da38-735458bd4ebe"
      },
      "source": [
        "import pandas as pd\n",
        "print(\"Training Data\")\n",
        "data=pd.read_csv(\"train.csv\")\n",
        "print(data.head())\n",
        "print(\"To predict data\")\n",
        "df=pd.read_csv(\"predict.csv\")\n",
        "print(df.head())"
      ],
      "execution_count": 8,
      "outputs": [
        {
          "output_type": "stream",
          "text": [
            "Training Data\n",
            "   R&D Spend  Administration  Marketing Spend       State     Profit\n",
            "0  165349.20       136897.80        471784.10    New York  192261.83\n",
            "1  162597.70       151377.59        443898.53  California  191792.06\n",
            "2  153441.51       101145.55        407934.54     Florida  191050.39\n",
            "3  144372.41       118671.85        383199.62    New York  182901.99\n",
            "4  142107.34        91391.77        366168.42     Florida  166187.94\n",
            "To predict data\n",
            "   R&D Spend  Administration  Marketing Spend       State\n",
            "0   20229.59        65947.93        185265.10    New York\n",
            "1   38558.51        82982.09        174999.30  California\n",
            "2   28754.33       118546.05        172795.67  California\n",
            "3   27892.92        84710.77        164470.71     Florida\n",
            "4   23640.93        96189.63        148001.11  California\n"
          ],
          "name": "stdout"
        }
      ]
    },
    {
      "cell_type": "markdown",
      "metadata": {
        "id": "otxFR4LLKrEh"
      },
      "source": [
        "## Splitting of data into Independent & Dependent Variables and Encoding of Categorical Data"
      ]
    },
    {
      "cell_type": "code",
      "metadata": {
        "id": "GYf9_Fe3GiQv",
        "colab": {
          "base_uri": "https://localhost:8080/"
        },
        "outputId": "e0f4aa66-3808-45fc-b17f-cb7ed361883f"
      },
      "source": [
        "X=data.iloc[:,0:4]\n",
        "Y=data.iloc[:,-1]\n",
        "states=pd.get_dummies(X['State'],drop_first=True)\n",
        "X=X.drop('State',axis=1)\n",
        "X=pd.concat([X,states],axis=1)\n",
        "print(X.head())"
      ],
      "execution_count": 12,
      "outputs": [
        {
          "output_type": "stream",
          "text": [
            "   R&D Spend  Administration  Marketing Spend  Florida  New York\n",
            "0  165349.20       136897.80        471784.10        0         1\n",
            "1  162597.70       151377.59        443898.53        0         0\n",
            "2  153441.51       101145.55        407934.54        1         0\n",
            "3  144372.41       118671.85        383199.62        0         1\n",
            "4  142107.34        91391.77        366168.42        1         0\n"
          ],
          "name": "stdout"
        }
      ]
    },
    {
      "cell_type": "markdown",
      "metadata": {
        "id": "hd3wf3xLK3Pc"
      },
      "source": [
        "## Fitting Data in Linear Regression Model"
      ]
    },
    {
      "cell_type": "code",
      "metadata": {
        "id": "gbFTtfVmIntX",
        "colab": {
          "base_uri": "https://localhost:8080/"
        },
        "outputId": "5499508e-83e9-4a6a-b7d7-60a969b1b778"
      },
      "source": [
        "from sklearn.linear_model import LinearRegression \n",
        "reg=LinearRegression()\n",
        "reg.fit(X,Y)"
      ],
      "execution_count": 13,
      "outputs": [
        {
          "output_type": "execute_result",
          "data": {
            "text/plain": [
              "LinearRegression(copy_X=True, fit_intercept=True, n_jobs=None, normalize=False)"
            ]
          },
          "metadata": {
            "tags": []
          },
          "execution_count": 13
        }
      ]
    },
    {
      "cell_type": "markdown",
      "metadata": {
        "id": "JvT2qNmfMkWD"
      },
      "source": [
        "## Predicting Values of profit for predict dataset"
      ]
    },
    {
      "cell_type": "code",
      "metadata": {
        "colab": {
          "base_uri": "https://localhost:8080/"
        },
        "id": "aT4S0CvPMqw6",
        "outputId": "86b7b260-fb44-49a5-a29d-c9535e4fcd87"
      },
      "source": [
        "X=df.iloc[:,0:4]\r\n",
        "states=pd.get_dummies(X['State'],drop_first=True)\r\n",
        "X=X.drop('State',axis=1)\r\n",
        "X=pd.concat([X,states],axis=1)\r\n",
        "df['Profit']=reg.predict(X)\r\n",
        "print(df)"
      ],
      "execution_count": 16,
      "outputs": [
        {
          "output_type": "stream",
          "text": [
            "    R&D Spend  Administration  Marketing Spend       State        Profit\n",
            "0    20229.59        65947.93        185265.10    New York  71011.409281\n",
            "1    38558.51        82982.09        174999.30  California  89050.300659\n",
            "2    28754.33       118546.05        172795.67  California  80128.640685\n",
            "3    27892.92        84710.77        164470.71     Florida  77782.943291\n",
            "4    23640.93        96189.63        148001.11  California  76313.093785\n",
            "5    15505.73       127382.30         35534.17    New York  60830.800192\n",
            "6    22177.74       154806.14         28334.72  California  69603.784708\n",
            "7     1000.23       124153.04          1903.93    New York  48829.131453\n",
            "8     1315.46       115816.21        297114.46     Florida  59969.523079\n",
            "9    11345.87       135426.92         56789.76  California  62798.211832\n",
            "10     542.05        51743.15         43678.87    New York  52346.616485\n",
            "11    3465.91       116983.80         45173.06  California  57085.444048\n"
          ],
          "name": "stdout"
        }
      ]
    },
    {
      "cell_type": "markdown",
      "metadata": {
        "id": "OEZbTSe3NWRG"
      },
      "source": [
        "## Creating prediction dataset with newly predicted values"
      ]
    },
    {
      "cell_type": "code",
      "metadata": {
        "id": "_NX5XkCTNiRi"
      },
      "source": [
        "df.to_csv(\"prediction.csv\",index=False)"
      ],
      "execution_count": 19,
      "outputs": []
    }
  ]
}